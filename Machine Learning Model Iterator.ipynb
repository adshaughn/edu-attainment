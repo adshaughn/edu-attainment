{
 "cells": [
  {
   "cell_type": "markdown",
   "id": "e972a9df",
   "metadata": {},
   "source": [
    " # Khaled Cheat Code using ...Predicting Diabetes"
   ]
  },
  {
   "cell_type": "code",
   "execution_count": null,
   "id": "856ecc91",
   "metadata": {},
   "outputs": [],
   "source": [
    "from pathlib import Path\n",
    "import pandas as pd"
   ]
  },
  {
   "cell_type": "code",
   "execution_count": null,
   "id": "7615016d",
   "metadata": {},
   "outputs": [],
   "source": [
    "data = Path('../Resources/diabetes.csv')\n",
    "df = pd.read_csv(data)\n",
    "df.head()"
   ]
  },
  {
   "cell_type": "markdown",
   "id": "0657b9a2",
   "metadata": {},
   "source": [
    " ## Separate the Features (X) from the Target (y)"
   ]
  },
  {
   "cell_type": "code",
   "execution_count": null,
   "id": "adda612c",
   "metadata": {},
   "outputs": [],
   "source": [
    "y = df[\"Outcome\"]\n",
    "X = df.drop(columns=\"Outcome\")"
   ]
  },
  {
   "cell_type": "markdown",
   "id": "1f7a38b1",
   "metadata": {},
   "source": [
    " ## Split our data into training and testing"
   ]
  },
  {
   "cell_type": "code",
   "execution_count": null,
   "id": "470b405c",
   "metadata": {},
   "outputs": [],
   "source": [
    "from sklearn.model_selection import train_test_split\n",
    "\n",
    "X_train, X_test, y_train, y_test = train_test_split(X, \n",
    "                                                    y, \n",
    "                                                    random_state=1, \n",
    "                                                    stratify=y)\n",
    "X_train.shape"
   ]
  },
  {
   "cell_type": "markdown",
   "id": "bc70adec",
   "metadata": {},
   "source": [
    " ## Create a Logistic Regression Model"
   ]
  },
  {
   "cell_type": "code",
   "execution_count": null,
   "id": "d99c5cf3",
   "metadata": {},
   "outputs": [],
   "source": [
    "# from sklearn.linear_model import LogisticRegression\n",
    "# classifier = LogisticRegression(solver='lbfgs',\n",
    "#                                 max_iter=200,\n",
    "#                                 random_state=1)"
   ]
  },
  {
   "cell_type": "markdown",
   "id": "56c12a6e",
   "metadata": {},
   "source": [
    " ## ** IMPORTANT Fit (train) or model using the training data **"
   ]
  },
  {
   "cell_type": "code",
   "execution_count": null,
   "id": "a925263a",
   "metadata": {},
   "outputs": [],
   "source": [
    "import sklearn\n",
    "from sklearn.metrics import accuracy_score"
   ]
  },
  {
   "cell_type": "code",
   "execution_count": null,
   "id": "e72a7d46",
   "metadata": {},
   "outputs": [],
   "source": [
    "from sklearn import ensemble\n",
    "from sklearn import naive_bayes"
   ]
  },
  {
   "cell_type": "code",
   "execution_count": null,
   "id": "12f79e5a",
   "metadata": {},
   "outputs": [],
   "source": [
    "ml_list = {\n",
    "#     \"ARDRegression\":sklearn.linear_model.ARDRegression(),\n",
    "    \"LogisticRegression\":sklearn.linear_model.LogisticRegression(solver='lbfgs', max_iter=200, random_state=1),\n",
    "    \"RandomForestClassifier\": ensemble.RandomForestClassifier(),\n",
    "    \"GaussianNB\": naive_bayes.GaussianNB(),\n",
    "}"
   ]
  },
  {
   "cell_type": "code",
   "execution_count": null,
   "id": "101ff2d0",
   "metadata": {},
   "outputs": [],
   "source": [
    "all_res = []\n",
    "for x in ml_list:\n",
    "    ml = ml_list[x]\n",
    "    ml.fit(X_train, y_train)\n",
    "    y_pred = ml.predict(X_test)\n",
    "    accuracy = accuracy_score(y_test, y_pred)\n",
    "    all_res.append({\n",
    "        \"name\": x,\n",
    "        \"accuracy\":accuracy\n",
    "    })\n",
    "    print(x)"
   ]
  },
  {
   "cell_type": "code",
   "execution_count": null,
   "id": "5c952f15",
   "metadata": {},
   "outputs": [],
   "source": [
    "df = pd.DataFrame(all_res).sort_values(\"accuracy\", ascending=False)\n",
    "df"
   ]
  }
 ],
 "metadata": {
  "kernelspec": {
   "display_name": "mlenv",
   "language": "python",
   "name": "mlenv"
  },
  "language_info": {
   "codemirror_mode": {
    "name": "ipython",
    "version": 3
   },
   "file_extension": ".py",
   "mimetype": "text/x-python",
   "name": "python",
   "nbconvert_exporter": "python",
   "pygments_lexer": "ipython3",
   "version": "3.7.13"
  }
 },
 "nbformat": 4,
 "nbformat_minor": 5
}
